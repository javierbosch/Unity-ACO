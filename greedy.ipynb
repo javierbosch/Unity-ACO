{
 "cells": [
  {
   "cell_type": "code",
   "execution_count": 3,
   "metadata": {},
   "outputs": [
    {
     "name": "stdout",
     "output_type": "stream",
     "text": [
      "150.49169352519874\n"
     ]
    }
   ],
   "source": [
    "import pandas as pd\n",
    "import numpy as np\n",
    "\n",
    "points = []\n",
    "\n",
    "df = pd.read_csv('att_points.csv')\n",
    "for i in range(0, len(df)):\n",
    "    points.append(np.array([df['x'][i], df['y'][i]]))\n",
    "\n",
    "\n",
    "def greedy(init,point,points,sum_dist):\n",
    "    min_ = 100000000000000\n",
    "\n",
    "    if len(points) == 0:\n",
    "        sum_dist += np.linalg.norm(init-point)\n",
    "        return sum_dist\n",
    "    \n",
    "    for i in range(0,len(points)):\n",
    "        dist = np.linalg.norm(point-points[i])\n",
    "        if dist < min_:\n",
    "            min_ = dist\n",
    "            index = i\n",
    "    sum_dist += min_\n",
    "    new = points.pop(index)\n",
    "    return greedy(init,new,points,sum_dist)\n",
    "\n",
    "greedies = []\n",
    "\n",
    "for i in range(0,len(points)):\n",
    "    copy = points.copy()\n",
    "    point = copy.pop(i)\n",
    "    dist = greedy(point,point,copy,0)\n",
    "    greedies.append(dist)\n",
    "\n",
    "print(np.average(greedies))"
   ]
  }
 ],
 "metadata": {
  "kernelspec": {
   "display_name": "base",
   "language": "python",
   "name": "python3"
  },
  "language_info": {
   "codemirror_mode": {
    "name": "ipython",
    "version": 3
   },
   "file_extension": ".py",
   "mimetype": "text/x-python",
   "name": "python",
   "nbconvert_exporter": "python",
   "pygments_lexer": "ipython3",
   "version": "3.8.3 (default, Jul  2 2020, 17:28:51) [MSC v.1916 32 bit (Intel)]"
  },
  "orig_nbformat": 4,
  "vscode": {
   "interpreter": {
    "hash": "48103ddf36c196c5694fbed1a662071ffaf5a835b896910c6b7ad402df402c84"
   }
  }
 },
 "nbformat": 4,
 "nbformat_minor": 2
}
